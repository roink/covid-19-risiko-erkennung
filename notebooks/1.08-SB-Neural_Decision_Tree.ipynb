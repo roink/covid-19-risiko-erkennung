{
  "cells": [
    {
      "cell_type": "code",
      "execution_count": 1,
      "metadata": {
        "id": "7DdxQu7lGWLQ"
      },
      "outputs": [],
      "source": [
        "import numpy as np\n",
        "import pandas as pd\n",
        "import scipy\n",
        "from matplotlib import pyplot as plt\n",
        "import os\n",
        "import sys\n",
        "from sklearn.model_selection import train_test_split\n",
        "from sklearn.metrics import accuracy_score, f1_score, precision_score, recall_score\n",
        "from imblearn.over_sampling import SMOTE\n",
        "from sklearn.naive_bayes import GaussianNB\n",
        "from sklearn.naive_bayes import MultinomialNB\n",
        "from sklearn.naive_bayes import BernoulliNB\n",
        "from sklearn.tree import DecisionTreeClassifier\n",
        "from sklearn.ensemble import RandomForestClassifier\n",
        "from sklearn.preprocessing import StandardScaler\n",
        "from sklearn.linear_model import LogisticRegression\n",
        "from sklearn.inspection import permutation_importance\n",
        "from tensorflow import keras\n",
        "from tensorflow.keras import layers\n",
        "from tensorflow.keras.metrics import Recall"
      ]
    },
    {
      "cell_type": "code",
      "execution_count": 2,
      "metadata": {
        "id": "1oJy3gJmGuWz"
      },
      "outputs": [],
      "source": [
        "df = pd.read_csv(\"Covid Data.csv\")"
      ]
    },
    {
      "cell_type": "code",
      "execution_count": 3,
      "metadata": {
        "id": "FWwDg1q-G3BF"
      },
      "outputs": [],
      "source": [
        "def get_scores(y_test, y_pred):\n",
        "    acc = accuracy_score(y_test, y_pred)\n",
        "    f1 = f1_score(y_test, y_pred)\n",
        "    prec = precision_score(y_test, y_pred)\n",
        "    rec = recall_score(y_test, y_pred)\n",
        "    return acc, f1, prec, rec"
      ]
    },
    {
      "cell_type": "code",
      "execution_count": 4,
      "metadata": {
        "id": "lPJ4pmHRG4l6"
      },
      "outputs": [],
      "source": [
        "#Wir fügen zuerst ein neues Attribut hinzu, das angibt, ob die Person gestorben ist oder nicht.\n",
        "#Die Verschlüsselung erfolgt konsistent mit den anderen Attributen (2 für \"nein\", 1 für \"ja\").\n",
        "#Das Todesdatum wird als Attribut verworfen.\n",
        "\n",
        "df['DIED'] = [2 if i=='9999-99-99' else 1 for i in df.DATE_DIED]\n",
        "df=df.drop(columns='DATE_DIED')"
      ]
    },
    {
      "cell_type": "code",
      "execution_count": 5,
      "metadata": {
        "id": "UfQpWjJVG7Y8"
      },
      "outputs": [],
      "source": [
        "#Eine Analyse der Missing Values zeigt, dass diese vor allem in den Spalten \"PREGNANT\", \"ICU\" und \"INTUBED\" vorkommen.\n",
        "#Das Attribut \"PREGNANT\" wird bei allen männlichen Patienten auf 2 gesetzt.\n",
        "#Das Attribut \"PATIENT_TYPE\" gibt an, ob die Person hospitalisiert war oder nicht. Bei allen Patienten ohne\n",
        "#Krankenhausaufenthalt kann das Attribut \"ICU\" auf 2 gesetzt werden, da keiner dieser Patienten folglich auf\n",
        "#einer Intensivstation behandelt wurde.\n",
        "#Dieselbe Vorgehensweise wenden wir auf das Attribut \"INTUBED\" an. Dazu gehen wir von der Grundannahme aus, dass\n",
        "#ein Anschluss an ein Beatmungsgerät im Rahmen eines Klinikaufenthaltes erfolgt. Etwaige Fälle von Heimintubation\n",
        "#vernachlässigen wir dabei.\n",
        "\n",
        "df.loc[df.SEX==2,'PREGNANT']=2\n",
        "df.loc[df.PATIENT_TYPE==1,'ICU']=2\n",
        "df.loc[df.PATIENT_TYPE==1,'INTUBED']=2"
      ]
    },
    {
      "cell_type": "code",
      "execution_count": 6,
      "metadata": {
        "id": "KU964au8G89e"
      },
      "outputs": [],
      "source": [
        "#Für die anderen fehlenden Werte können keine sinnvollen Aussagen getroffen werden. Da sie nur einen sehr kleinen\n",
        "#Anteil des gesamten Datensatzes ausmachen (2.76%), verwerfen wir sie.\n",
        "\n",
        "for col in df.columns.drop('AGE'):\n",
        "    for i in [97,98, 99]:\n",
        "        df[col]=df[col].replace(i , np.nan)\n",
        "\n",
        "df=df.dropna()"
      ]
    },
    {
      "cell_type": "code",
      "execution_count": 7,
      "metadata": {
        "colab": {
          "base_uri": "https://localhost:8080/"
        },
        "id": "i_8BPOxdG-Na",
        "outputId": "f7670d99-8380-4e89-8e61-638742ebe62b"
      },
      "outputs": [
        {
          "name": "stderr",
          "output_type": "stream",
          "text": [
            "<ipython-input-7-7a0d027bdb3e>:2: SettingWithCopyWarning: \n",
            "A value is trying to be set on a copy of a slice from a DataFrame.\n",
            "Try using .loc[row_indexer,col_indexer] = value instead\n",
            "\n",
            "See the caveats in the documentation: https://pandas.pydata.org/pandas-docs/stable/user_guide/indexing.html#returning-a-view-versus-a-copy\n",
            "  df['AGE'] = (df['AGE'] - df['AGE'].min()) / (df['AGE'].max() - df['AGE'].min())\n",
            "<ipython-input-7-7a0d027bdb3e>:6: SettingWithCopyWarning: \n",
            "A value is trying to be set on a copy of a slice from a DataFrame.\n",
            "Try using .loc[row_indexer,col_indexer] = value instead\n",
            "\n",
            "See the caveats in the documentation: https://pandas.pydata.org/pandas-docs/stable/user_guide/indexing.html#returning-a-view-versus-a-copy\n",
            "  df[col]=df[col].replace(re_map_dict)\n"
          ]
        }
      ],
      "source": [
        "#Wir normieren das Attribut \"AGE\" auf das Intervall [0,1] und bilden die \"2\" bei den binären Attributen auf die \"0\" ab\n",
        "df['AGE'] = (df['AGE'] - df['AGE'].min()) / (df['AGE'].max() - df['AGE'].min())\n",
        "\n",
        "for col in df.columns.drop(['AGE','CLASIFFICATION_FINAL', 'MEDICAL_UNIT', 'PATIENT_TYPE', 'USMER']):\n",
        "    re_map_dict = {2:0}\n",
        "    df[col]=df[col].replace(re_map_dict)"
      ]
    },
    {
      "cell_type": "code",
      "execution_count": 8,
      "metadata": {
        "id": "_GMuiLPHG_-p"
      },
      "outputs": [],
      "source": [
        "#Als Zielvariable wählen wir \"DIED\" aus\n",
        "target='DIED'"
      ]
    },
    {
      "cell_type": "code",
      "execution_count": 9,
      "metadata": {
        "colab": {
          "base_uri": "https://localhost:8080/"
        },
        "id": "dHeKBTgMHBf6",
        "outputId": "fb1076f1-2b56-4e6b-f519-fc445016691a"
      },
      "outputs": [
        {
          "name": "stdout",
          "output_type": "stream",
          "text": [
            "CLASIFFICATION_FINAL\n",
            "7    488131\n",
            "3    375920\n",
            "6    117178\n",
            "5     25175\n",
            "1      8397\n",
            "4      3082\n",
            "2      1783\n",
            "Name: count, dtype: int64\n",
            "PATIENT_TYPE\n",
            "1    830385\n",
            "2    189281\n",
            "Name: count, dtype: int64\n",
            "ICU\n",
            "0.0    1003258\n",
            "1.0      16408\n",
            "Name: count, dtype: int64\n",
            "INTUBED\n",
            "0.0    986730\n",
            "1.0     32936\n",
            "Name: count, dtype: int64\n",
            "DIED\n",
            "0    946356\n",
            "1     73310\n",
            "Name: count, dtype: int64\n"
          ]
        }
      ],
      "source": [
        "for col in ['CLASIFFICATION_FINAL', 'PATIENT_TYPE', 'ICU', 'INTUBED', 'DIED']:\n",
        "    print(df[col].value_counts())"
      ]
    },
    {
      "cell_type": "code",
      "execution_count": 10,
      "metadata": {
        "id": "MXL-FhsBHHCs"
      },
      "outputs": [],
      "source": [
        "df.drop(columns=[\"INTUBED\",\"ICU\"], inplace=True)"
      ]
    },
    {
      "cell_type": "code",
      "execution_count": 11,
      "metadata": {
        "id": "KqEQ6VQlHIe3"
      },
      "outputs": [],
      "source": [
        "#Wir verwerfen die beiden Attribute 'MEDICAL_UNIT' und 'USMER'\n",
        "\n",
        "# discarded_features = ['MEDICAL_UNIT', 'USMER','PATIENT_TYPE','INTUBED','ICU','PNEUMONIA']\n",
        "discarded_features = [\"SEX\", \"PREGNANT\", \"COPD\", \"ASTHMA\", \"INMSUPR\", \"OTHER_DISEASE\", \"CARDIOVASCULAR\",\n",
        "                      \"OBESITY\",\"TOBACCO\"]\n",
        "df = df.drop(discarded_features, axis=1)\n",
        "\n",
        "#Wir testen die Attribute auf Korrelation mit der Zielvariablen testen und verwerfen alle Attribute,\n",
        "#die unter einem gewissen Schwellwert liegen. (->andere Feature Selection Methoden ausprobieren)\n",
        "\n",
        "# threshold=0.04\n",
        "# selected_features=df.corr()[target][abs(df.corr()[target])>threshold].index\n",
        "# not_selected_features=df.corr()[target][abs(df.corr()[target])<threshold]\n",
        "# print(not_selected_features)\n",
        "# df=df[selected_features]"
      ]
    },
    {
      "cell_type": "code",
      "execution_count": 12,
      "metadata": {
        "id": "zhDlHzP6HJhc"
      },
      "outputs": [],
      "source": [
        "#df = pd.get_dummies(df,columns=[\"MEDICAL_UNIT\",\"CLASIFFICATION_FINAL\"],drop_first=True)\n",
        "df = pd.get_dummies(df,columns=[\"CLASIFFICATION_FINAL\"],drop_first=True)"
      ]
    },
    {
      "cell_type": "code",
      "execution_count": 13,
      "metadata": {
        "colab": {
          "base_uri": "https://localhost:8080/"
        },
        "id": "yJHP41Q-HLBx",
        "outputId": "0d02935b-7f71-456a-cb81-9e57a8f14820"
      },
      "outputs": [
        {
          "name": "stdout",
          "output_type": "stream",
          "text": [
            "Samples where person died: 73310\n",
            "Samples where person did not die: 946356\n",
            "% of samples where person died: 7.747\n"
          ]
        }
      ],
      "source": [
        "print(f'Samples where person died: {len(df[df[\"DIED\"]==1])}')\n",
        "print(f'Samples where person did not die: {len(df[df[\"DIED\"]==0])}')\n",
        "\n",
        "print(f'% of samples where person died: {len(df[df[\"DIED\"]==1]) / len(df[df[\"DIED\"]==0]) * 100:.3f}')"
      ]
    },
    {
      "cell_type": "code",
      "execution_count": 14,
      "metadata": {
        "id": "wyyE8yjvHMev"
      },
      "outputs": [],
      "source": [
        "# Undersample negative samples and oversample positive samples\n",
        "\n",
        "df_dead = df[df[\"DIED\"]==1].copy()\n",
        "df_alive = df[df[\"DIED\"]==0].sample(n=len(df_dead))\n",
        "\n",
        "#Wir teilen den Datensatz in Trainings- und Testdatensatz auf.\n",
        "\n",
        "test_size_dead=0.1\n",
        "train_dead, test_dead = train_test_split(df_dead, test_size=test_size_dead, shuffle=True)\n",
        "\n",
        "test_size_alive=0.1\n",
        "train_alive, test_alive = train_test_split(df_alive, test_size=test_size_alive, shuffle=True)\n",
        "\n",
        "train = pd.concat([train_dead, train_alive], axis=0)\n",
        "test = pd.concat([test_dead, test_alive], axis=0)\n",
        "\n",
        "train_y = train[target]\n",
        "train_x = train.drop(target,axis=1)\n",
        "\n",
        "test_y = test[target]\n",
        "test_x = test.drop(target,axis=1)"
      ]
    },
    {
      "cell_type": "code",
      "execution_count": 16,
      "metadata": {
        "colab": {
          "base_uri": "https://localhost:8080/",
          "height": 1000
        },
        "id": "qBQqLhxeHc2q",
        "outputId": "2f3cabaa-31d5-493e-b1a3-6e915932a797"
      },
      "outputs": [
        {
          "name": "stderr",
          "output_type": "stream",
          "text": [
            "/usr/local/lib/python3.10/dist-packages/keras/src/layers/core/dense.py:87: UserWarning: Do not pass an `input_shape`/`input_dim` argument to a layer. When using Sequential models, prefer using an `Input(shape)` object as the first layer in the model instead.\n",
            "  super().__init__(activity_regularizer=activity_regularizer, **kwargs)\n"
          ]
        },
        {
          "name": "stdout",
          "output_type": "stream",
          "text": [
            "Best Validation Loss: 0.2269\n",
            "Best Validation Accuracy: 0.9185\n",
            "\u001b[1m459/459\u001b[0m \u001b[32m━━━━━━━━━━━━━━━━━━━━\u001b[0m\u001b[37m\u001b[0m \u001b[1m1s\u001b[0m 2ms/step\n",
            "Accuracy: 0.9161778747783386\n",
            "F1: 0.9196679521537355\n",
            "Precision: 0.8829066265060241\n",
            "Recall: 0.9596235165734552\n",
            "\n"
          ]
        },
        {
          "data": {
            "image/png": "[encoded data removed]",
            "text/plain": [
              "<Figure size 640x480 with 1 Axes>"
            ]
          },
          "metadata": {},
          "output_type": "display_data"
        },
        {
          "data": {
            "image/png": "[encoded data removed]",
            "text/plain": [
              "<Figure size 640x480 with 1 Axes>"
            ]
          },
          "metadata": {},
          "output_type": "display_data"
        }
      ],
      "source": [
        "#Wir wenden einen Deep-Learning-Ansatz auf den Datensatz an.\n",
        "\n",
        "model = keras.Sequential([\n",
        "        layers.Dense(256, activation='relu', input_shape=[train_x.shape[1]]),\n",
        "        layers.Dense(1024, activation='relu'),\n",
        "        layers.Dense(256, activation='relu'),\n",
        "        layers.Dense(32, activation='relu'),\n",
        "        layers.Dense(1, activation='sigmoid')])\n",
        "\n",
        "model.compile(optimizer='adam', loss='binary_crossentropy', metrics=['binary_accuracy'])\n",
        "model.optimizer.learning_rate.assign(10e-3)\n",
        "\n",
        "early_stopping = keras.callbacks.EarlyStopping(patience=75, min_delta=0.001, restore_best_weights=True)\n",
        "\n",
        "history = model.fit(train_x, train_y, validation_data=(test_x, test_y), batch_size=256, epochs=1000,\n",
        "                    callbacks=[early_stopping], verbose=0)\n",
        "\n",
        "history_df = pd.DataFrame(history.history)\n",
        "history_df.loc[5:, ['loss', 'val_loss']].plot()\n",
        "history_df.loc[5:, ['binary_accuracy', 'val_binary_accuracy']].plot()\n",
        "\n",
        "print((\"Best Validation Loss: {:0.4f}\" + \"\\nBest Validation Accuracy: {:0.4f}\").format(history_df['val_loss'].min(),\n",
        "                  history_df['val_binary_accuracy'].max()))\n",
        "\n",
        "y_pred = (model.predict(test_x) > 0.5).astype(\"int32\")\n",
        "acc, f1, prec, rec = get_scores(test_y, y_pred)\n",
        "print(f'Accuracy: {acc}')\n",
        "print(f'F1: {f1}')\n",
        "print(f'Precision: {prec}')\n",
        "print(f'Recall: {rec}'+\"\\n\")\n"
      ]
    },
    {
      "cell_type": "code",
      "execution_count": 17,
      "metadata": {
        "id": "h0SvnBCZHimH"
      },
      "outputs": [],
      "source": []
    },
    {
      "cell_type": "code",
      "execution_count": 18,
      "metadata": {
        "id": "BZBbJ3-eHeYC"
      },
      "outputs": [],
      "source": [
        "import os\n",
        "import argparse\n",
        "import time\n",
        "import pickle\n",
        "import torch\n",
        "import torch.nn as nn\n",
        "import torch.nn.functional as F\n",
        "import torch.optim as optim\n",
        "from torch.autograd import Variable\n",
        "from torch.utils.data import DataLoader, Dataset\n",
        "from collections import OrderedDict"
      ]
    },
    {
      "cell_type": "code",
      "execution_count": 19,
      "metadata": {
        "colab": {
          "base_uri": "https://localhost:8080/"
        },
        "id": "lBWhTb8CHn9m",
        "outputId": "65393486-8428-488e-b33f-9e416a1de6a4"
      },
      "outputs": [
        {
          "data": {
            "text/plain": [
              "device(type='cuda')"
            ]
          },
          "execution_count": 19,
          "metadata": {},
          "output_type": "execute_result"
        }
      ],
      "source": [
        "device = torch.device('cuda' if torch.cuda.is_available() else 'cpu')\n",
        "device"
      ]
    },
    {
      "cell_type": "code",
      "execution_count": 20,
      "metadata": {
        "id": "A5V4ml2LHgTX"
      },
      "outputs": [],
      "source": [
        "class TabularDataset(Dataset):\n",
        "    def __init__(self, features, labels):\n",
        "        self.features = torch.tensor(features, dtype=torch.float64)\n",
        "        self.labels = torch.tensor(labels).type(torch.LongTensor)\n",
        "\n",
        "    def __len__(self):\n",
        "        return len(self.labels)\n",
        "\n",
        "    def __getitem__(self, idx):\n",
        "        return self.features[idx].to(device), self.labels[idx].to(device)\n"
      ]
    },
    {
      "cell_type": "code",
      "execution_count": 21,
      "metadata": {
        "id": "YDnQrl3FHlSz"
      },
      "outputs": [],
      "source": [
        "# Create Dataset objects\n",
        "train_dataset = TabularDataset(train_x.astype(np.float64).values, train_y.astype(np.float64).values)\n",
        "test_dataset = TabularDataset(test_x.astype(np.float64).values, test_y.astype(np.float64).values)\n",
        "\n",
        "# Create DataLoader objects\n",
        "train_loader = DataLoader(train_dataset, batch_size=256, shuffle=True)\n",
        "test_loader = DataLoader(test_dataset, batch_size=256, shuffle=False)"
      ]
    },
    {
      "cell_type": "code",
      "execution_count": 22,
      "metadata": {
        "id": "qXKidpW8Hmga"
      },
      "outputs": [],
      "source": [
        "class DNDT(nn.Module):\n",
        "    def __init__(self, depth, num_features, used_features_rate, num_classes):\n",
        "        super(DNDT, self).__init__()\n",
        "        self.depth = depth\n",
        "        self.num_leaves = 2**depth\n",
        "        self.num_classes = num_classes\n",
        "\n",
        "        num_used_features = int(num_features * used_features_rate)\n",
        "        one_hot = np.eye(num_features)\n",
        "        sampled_feature_indicies = np.random.choice(np.arange(num_features), num_used_features,\n",
        "                                                   replace=False)\n",
        "        self.used_features_mask = one_hot[sampled_feature_indicies]\n",
        "        self.used_features_mask = torch.DoubleTensor(self.used_features_mask)\n",
        "\n",
        "        # Initialize the weights of the classes in leaves\n",
        "        self.pi = torch.randn((self.num_leaves, self.num_classes), requires_grad=True)\n",
        "\n",
        "        self.decision_fn = nn.Sequential(OrderedDict([\n",
        "            ('linear1', nn.Linear(num_used_features, self.num_leaves)),\n",
        "            ('sigmoid', nn.Sigmoid())\n",
        "        ]))\n",
        "\n",
        "    def forward(self, x):\n",
        "        if x.is_cuda and not self.used_features_mask.is_cuda:\n",
        "            self.used_features_mask = self.used_features_mask.cuda()\n",
        "\n",
        "        batch_size = x.shape[0]\n",
        "        #x = x @ self.used_features_mask.T\n",
        "        x = torch.mm(x, self.used_features_mask.T)\n",
        "\n",
        "        decisions = torch.unsqueeze(self.decision_fn(x), dim=2)\n",
        "        decisions = torch.cat((decisions, 1-decisions),dim=2)\n",
        "\n",
        "        mu = torch.ones((batch_size, 1, 1)).cuda()\n",
        "\n",
        "        begin_idx=1\n",
        "        end_idx=2\n",
        "        # Traverse tree in breadth-first order\n",
        "        for level in range(self.depth):\n",
        "            mu = mu.view(batch_size, -1, 1).repeat(1, 1, 2)\n",
        "            level_decision = decisions[:, begin_idx:end_idx, :]\n",
        "            mu = mu * level_decision\n",
        "            begin_idx=end_idx\n",
        "            end_idx = begin_idx + 2 ** (level+1)\n",
        "\n",
        "        mu = mu.view(batch_size, self.num_leaves)\n",
        "        probabilities = F.softmax(self.pi, dim=1).cuda().double()\n",
        "        outputs = torch.mm(mu, probabilities)\n",
        "        return outputs"
      ]
    },
    {
      "cell_type": "code",
      "execution_count": 23,
      "metadata": {
        "id": "q34VnjzsHpQr"
      },
      "outputs": [],
      "source": [
        "def train(model=None, dataset_loader=None, optim=None, epochs=10):\n",
        "    loss_arr = []\n",
        "    for epoch in range(0, epochs):\n",
        "        batch_losses = []\n",
        "        for X, y in dataset_loader:\n",
        "\n",
        "            out = model(X)\n",
        "            loss = criterion(out, y)\n",
        "            loss_np = loss.detach().cpu().item()\n",
        "            batch_losses.append(loss_np)\n",
        "\n",
        "            loss.backward()\n",
        "            optimizer.step()\n",
        "            optimizer.zero_grad()\n",
        "\n",
        "        epoch_loss = np.sum(batch_losses)\n",
        "        print(f'loss in epoche {epoch} : {epoch_loss}')\n",
        "        loss_arr.append(epoch_loss)"
      ]
    },
    {
      "cell_type": "code",
      "execution_count": null,
      "metadata": {
        "colab": {
          "base_uri": "https://localhost:8080/"
        },
        "id": "p-gZUqV4Hqhx",
        "outputId": "c69c8016-2549-47d0-8891-9efdd1988da2"
      },
      "outputs": [
        {
          "data": {
            "text/plain": [
              "DNDT(\n",
              "  (decision_fn): Sequential(\n",
              "    (linear1): Linear(in_features=25, out_features=256, bias=True)\n",
              "    (sigmoid): Sigmoid()\n",
              "  )\n",
              ")"
            ]
          },
          "execution_count": 23,
          "metadata": {},
          "output_type": "execute_result"
        }
      ],
      "source": [
        "model = DNDT(8, train_x.shape[1], 1., 2)\n",
        "model = model.double().to(device)\n",
        "model"
      ]
    },
    {
      "cell_type": "code",
      "execution_count": null,
      "metadata": {
        "colab": {
          "base_uri": "https://localhost:8080/"
        },
        "id": "jpAIZmPpHufC",
        "outputId": "9a18ad30-d85a-4656-8804-6932c838ad3b"
      },
      "outputs": [
        {
          "name": "stdout",
          "output_type": "stream",
          "text": [
            "loss in epoche 0 : 300.0898919293668\n",
            "loss in epoche 1 : 250.13612188446263\n",
            "loss in epoche 2 : 237.79884124202087\n",
            "loss in epoche 3 : 231.3570429789278\n",
            "loss in epoche 4 : 227.0361482470504\n",
            "loss in epoche 5 : 224.49077779951716\n",
            "loss in epoche 6 : 222.99223220910596\n",
            "loss in epoche 7 : 221.98981878090396\n",
            "loss in epoche 8 : 221.23310474699156\n",
            "loss in epoche 9 : 220.683783909905\n",
            "loss in epoche 10 : 220.2389807194636\n",
            "loss in epoche 11 : 219.86738736550203\n",
            "loss in epoche 12 : 219.55918298711532\n",
            "loss in epoche 13 : 219.30829065894778\n",
            "loss in epoche 14 : 219.07228836626246\n",
            "loss in epoche 15 : 218.90234490799145\n",
            "loss in epoche 16 : 218.7265740571741\n",
            "loss in epoche 17 : 218.5741376586863\n",
            "loss in epoche 18 : 218.44680439486967\n",
            "loss in epoche 19 : 218.30646303559195\n",
            "loss in epoche 20 : 218.20898630633855\n",
            "loss in epoche 21 : 218.13257111792262\n",
            "loss in epoche 22 : 218.017417945428\n",
            "loss in epoche 23 : 217.9379191381836\n",
            "loss in epoche 24 : 217.86389797004637\n",
            "loss in epoche 25 : 217.7835885400807\n",
            "loss in epoche 26 : 217.7434738676872\n",
            "loss in epoche 27 : 217.64845127468016\n",
            "loss in epoche 28 : 217.5697300196968\n",
            "loss in epoche 29 : 217.53486625131427\n",
            "loss in epoche 30 : 217.48118170574566\n",
            "loss in epoche 31 : 217.43753609474936\n",
            "loss in epoche 32 : 217.3707750063121\n",
            "loss in epoche 33 : 217.32835193621503\n",
            "loss in epoche 34 : 217.29877471640222\n",
            "loss in epoche 35 : 217.2476413655827\n",
            "loss in epoche 36 : 217.22715322139152\n",
            "loss in epoche 37 : 217.15793190485653\n",
            "loss in epoche 38 : 217.1175237107124\n",
            "loss in epoche 39 : 217.09731865421296\n",
            "loss in epoche 40 : 217.06484491532416\n",
            "loss in epoche 41 : 217.04340603247516\n",
            "loss in epoche 42 : 217.01336426441725\n",
            "loss in epoche 43 : 216.96935115804155\n",
            "loss in epoche 44 : 216.95403781032593\n",
            "loss in epoche 45 : 216.92377398007022\n",
            "loss in epoche 46 : 216.91467977572785\n",
            "loss in epoche 47 : 216.86941120898683\n",
            "loss in epoche 48 : 216.85446608188477\n",
            "loss in epoche 49 : 216.826077353021\n",
            "loss in epoche 50 : 216.8124216075858\n",
            "loss in epoche 51 : 216.76085631851288\n",
            "loss in epoche 52 : 216.7736736262529\n",
            "loss in epoche 53 : 216.7211886825227\n",
            "loss in epoche 54 : 216.68148549639017\n",
            "loss in epoche 55 : 216.68642639526612\n",
            "loss in epoche 56 : 216.65390219136364\n",
            "loss in epoche 57 : 216.6336504920872\n",
            "loss in epoche 58 : 216.61187771638873\n",
            "loss in epoche 59 : 216.5854645871942\n",
            "loss in epoche 60 : 216.58006550587328\n",
            "loss in epoche 61 : 216.56749329579412\n",
            "loss in epoche 62 : 216.54236739217316\n",
            "loss in epoche 63 : 216.54203505844924\n",
            "loss in epoche 64 : 216.4951521467916\n",
            "loss in epoche 65 : 216.47107105255435\n",
            "loss in epoche 66 : 216.48567163814772\n",
            "loss in epoche 67 : 216.4607263740383\n",
            "loss in epoche 68 : 216.43925366411028\n",
            "loss in epoche 69 : 216.4427121792151\n",
            "loss in epoche 70 : 216.43214409950144\n",
            "loss in epoche 71 : 216.4130355048207\n",
            "loss in epoche 72 : 216.38817477018358\n",
            "loss in epoche 73 : 216.3920149596615\n",
            "loss in epoche 74 : 216.38322019462683\n",
            "loss in epoche 75 : 216.3507194135797\n",
            "loss in epoche 76 : 216.36415102400053\n",
            "loss in epoche 77 : 216.3374296990317\n",
            "loss in epoche 78 : 216.33915218386971\n",
            "loss in epoche 79 : 216.3265837189826\n",
            "loss in epoche 80 : 216.31402209577976\n",
            "loss in epoche 81 : 216.29478576200535\n",
            "loss in epoche 82 : 216.29017489410967\n",
            "loss in epoche 83 : 216.29355069716829\n",
            "loss in epoche 84 : 216.2724330710775\n",
            "loss in epoche 85 : 216.2772769264763\n",
            "loss in epoche 86 : 216.29179773245164\n",
            "loss in epoche 87 : 216.24699296369081\n",
            "loss in epoche 88 : 216.26881238413745\n",
            "loss in epoche 89 : 216.2306169642569\n",
            "loss in epoche 90 : 216.2470988309634\n",
            "loss in epoche 91 : 216.2168901787971\n",
            "loss in epoche 92 : 216.24378024698544\n",
            "loss in epoche 93 : 216.22266946337115\n",
            "loss in epoche 94 : 216.21872308042077\n",
            "loss in epoche 95 : 216.23183631306716\n",
            "loss in epoche 96 : 216.1952766418523\n",
            "loss in epoche 97 : 216.1972097733734\n",
            "loss in epoche 98 : 216.18986892679465\n",
            "loss in epoche 99 : 216.1793530747861\n"
          ]
        }
      ],
      "source": [
        "optimizer = optim.Adam(model.parameters(), lr=0.001, weight_decay=1e-5)\n",
        "criterion = nn.CrossEntropyLoss()\n",
        "train(model=model, dataset_loader=train_loader, optim=optimizer, epochs=100)"
      ]
    },
    {
      "cell_type": "code",
      "execution_count": null,
      "metadata": {
        "id": "1vWWb6cNTbR9"
      },
      "outputs": [],
      "source": []
    },
    {
      "cell_type": "code",
      "execution_count": null,
      "metadata": {
        "colab": {
          "base_uri": "https://localhost:8080/"
        },
        "id": "_ZEi_Lm_TPd_",
        "outputId": "e3bd7a4d-d6a4-40a6-8dea-819b1c9b7a2d"
      },
      "outputs": [
        {
          "name": "stdout",
          "output_type": "stream",
          "text": [
            "Accuracy: 0.910858000272814\n",
            "F1: 0.914165626847048\n",
            "Precision: 0.8814589665653495\n",
            "Recall: 0.9493929886782158\n",
            "\n"
          ]
        }
      ],
      "source": [
        "model.eval()\n",
        "L = np.empty((0, 2))\n",
        "for X, y in test_loader:\n",
        "    test_out = model(X).detach().cpu().numpy()\n",
        "    L = np.append(L, test_out, axis=0)\n",
        "\n",
        "y_pred = L.argmax(axis=1)\n",
        "y_pred = L.argmax(axis=1)\n",
        "\n",
        "acc, f1, prec, rec = get_scores(test_y, y_pred)\n",
        "print(f'Accuracy: {acc}')\n",
        "print(f'F1: {f1}')\n",
        "print(f'Precision: {prec}')\n",
        "print(f'Recall: {rec}'+\"\\n\")"
      ]
    },
    {
      "cell_type": "code",
      "execution_count": null,
      "metadata": {
        "id": "puAQlOKtUqdm"
      },
      "outputs": [],
      "source": []
    },
    {
      "cell_type": "code",
      "execution_count": null,
      "metadata": {
        "id": "RYms__P3dNLL"
      },
      "outputs": [],
      "source": []
    },
    {
      "cell_type": "code",
      "execution_count": 24,
      "metadata": {
        "id": "XPBSfg2CdM9v"
      },
      "outputs": [],
      "source": [
        "class DNDF(nn.Module):\n",
        "    def __init__(self, num_trees, depth, num_features, used_features_rate, num_classes):\n",
        "        super(DNDF, self).__init__()\n",
        "        self.ensemble = nn.ModuleList()\n",
        "        self.num_classes = num_classes\n",
        "        self.num_trees = num_trees\n",
        "\n",
        "        for _ in range(num_trees):\n",
        "            self.ensemble.append(\n",
        "                DNDT(depth, num_features, used_features_rate, num_classes).cuda()\n",
        "            )\n",
        "\n",
        "    def forward(self, x):\n",
        "        batch_size = x.shape[0]\n",
        "        outputs = torch.zeros((batch_size, self.num_classes)).cuda()\n",
        "\n",
        "        for tree in self.ensemble:\n",
        "            outputs += tree(x)\n",
        "\n",
        "        outputs /= len(self.ensemble)\n",
        "        return outputs"
      ]
    },
    {
      "cell_type": "code",
      "execution_count": 25,
      "metadata": {
        "id": "1guhgdgldOUI"
      },
      "outputs": [],
      "source": [
        "model = DNDF(25, 8, train_x.shape[1], .9, 2)\n",
        "model = model.double().cuda()"
      ]
    },
    {
      "cell_type": "code",
      "execution_count": 26,
      "metadata": {
        "colab": {
          "base_uri": "https://localhost:8080/"
        },
        "id": "2OAogIbCdYMC",
        "outputId": "e2356412-0b7e-44e4-ee0e-6b65789b983e"
      },
      "outputs": [
        {
          "name": "stdout",
          "output_type": "stream",
          "text": [
            "loss in epoche 0 : 298.7102979719639\n",
            "loss in epoche 1 : 253.92008674144745\n",
            "loss in epoche 2 : 239.8700306415558\n",
            "loss in epoche 3 : 233.06266021728516\n",
            "loss in epoche 4 : 229.42013350129128\n",
            "loss in epoche 5 : 227.12149733304977\n",
            "loss in epoche 6 : 225.42787712812424\n",
            "loss in epoche 7 : 224.0778973698616\n",
            "loss in epoche 8 : 223.05342349410057\n",
            "loss in epoche 9 : 222.22567531466484\n",
            "loss in epoche 10 : 221.52901157736778\n",
            "loss in epoche 11 : 220.86308032274246\n",
            "loss in epoche 12 : 220.2054105103016\n",
            "loss in epoche 13 : 219.7713360786438\n",
            "loss in epoche 14 : 219.39904418587685\n",
            "loss in epoche 15 : 219.05618971586227\n",
            "loss in epoche 16 : 218.76946738362312\n",
            "loss in epoche 17 : 218.52130335569382\n",
            "loss in epoche 18 : 218.31533813476562\n",
            "loss in epoche 19 : 218.1080427467823\n",
            "loss in epoche 20 : 217.9417645931244\n",
            "loss in epoche 21 : 217.76883378624916\n",
            "loss in epoche 22 : 217.62001901865005\n",
            "loss in epoche 23 : 217.48812755942345\n",
            "loss in epoche 24 : 217.35636779665947\n",
            "loss in epoche 25 : 217.23699381947517\n",
            "loss in epoche 26 : 217.1123029589653\n",
            "loss in epoche 27 : 217.02162438631058\n",
            "loss in epoche 28 : 216.9281343817711\n",
            "loss in epoche 29 : 216.81655910611153\n",
            "loss in epoche 30 : 216.75058916211128\n",
            "loss in epoche 31 : 216.64591345191002\n",
            "loss in epoche 32 : 216.58914303779602\n",
            "loss in epoche 33 : 216.52870017290115\n",
            "loss in epoche 34 : 216.44940873980522\n",
            "loss in epoche 35 : 216.3876717686653\n",
            "loss in epoche 36 : 216.33828881382942\n",
            "loss in epoche 37 : 216.2663397192955\n",
            "loss in epoche 38 : 216.21666160225868\n",
            "loss in epoche 39 : 216.1378056704998\n",
            "loss in epoche 40 : 216.11078998446465\n",
            "loss in epoche 41 : 216.05484226346016\n",
            "loss in epoche 42 : 216.00403556227684\n",
            "loss in epoche 43 : 215.94397175312042\n",
            "loss in epoche 44 : 215.93258824944496\n",
            "loss in epoche 45 : 215.87905025482178\n",
            "loss in epoche 46 : 215.85307222604752\n",
            "loss in epoche 47 : 215.80266883969307\n",
            "loss in epoche 48 : 215.76777285337448\n",
            "loss in epoche 49 : 215.74280846118927\n",
            "loss in epoche 50 : 215.6755446791649\n",
            "loss in epoche 51 : 215.64888897538185\n",
            "loss in epoche 52 : 215.61081451177597\n",
            "loss in epoche 53 : 215.58533161878586\n",
            "loss in epoche 54 : 215.56558614969254\n",
            "loss in epoche 55 : 215.5376202762127\n",
            "loss in epoche 56 : 215.4961424767971\n",
            "loss in epoche 57 : 215.47453075647354\n",
            "loss in epoche 58 : 215.45181491971016\n",
            "loss in epoche 59 : 215.43022522330284\n",
            "loss in epoche 60 : 215.3931746482849\n",
            "loss in epoche 61 : 215.3750069141388\n",
            "loss in epoche 62 : 215.3624950349331\n",
            "loss in epoche 63 : 215.37254348397255\n",
            "loss in epoche 64 : 215.2962917983532\n",
            "loss in epoche 65 : 215.29615965485573\n",
            "loss in epoche 66 : 215.25326439738274\n",
            "loss in epoche 67 : 215.24461755156517\n",
            "loss in epoche 68 : 215.22620993852615\n",
            "loss in epoche 69 : 215.21225249767303\n",
            "loss in epoche 70 : 215.18513223528862\n",
            "loss in epoche 71 : 215.15773355960846\n",
            "loss in epoche 72 : 215.15637987852097\n",
            "loss in epoche 73 : 215.13945046067238\n",
            "loss in epoche 74 : 215.12772125005722\n",
            "loss in epoche 75 : 215.13123908638954\n",
            "loss in epoche 76 : 215.06780490279198\n",
            "loss in epoche 77 : 215.0689934194088\n",
            "loss in epoche 78 : 215.03606882691383\n",
            "loss in epoche 79 : 215.0444482266903\n",
            "loss in epoche 80 : 215.02102500200272\n",
            "loss in epoche 81 : 215.0044202208519\n",
            "loss in epoche 82 : 214.9991433620453\n",
            "loss in epoche 83 : 214.98927134275436\n",
            "loss in epoche 84 : 214.95627948641777\n",
            "loss in epoche 85 : 214.93227219581604\n",
            "loss in epoche 86 : 214.91365870833397\n",
            "loss in epoche 87 : 214.91238325834274\n",
            "loss in epoche 88 : 214.89567086100578\n",
            "loss in epoche 89 : 214.8639853000641\n",
            "loss in epoche 90 : 214.8730620443821\n",
            "loss in epoche 91 : 214.80086800456047\n",
            "loss in epoche 92 : 214.7887171804905\n",
            "loss in epoche 93 : 214.7973209619522\n",
            "loss in epoche 94 : 214.77108335494995\n",
            "loss in epoche 95 : 214.75970348715782\n",
            "loss in epoche 96 : 214.74426871538162\n",
            "loss in epoche 97 : 214.7342764735222\n",
            "loss in epoche 98 : 214.70995703339577\n",
            "loss in epoche 99 : 214.705948472023\n"
          ]
        }
      ],
      "source": [
        "optimizer = optim.Adam(list(model.parameters()), lr=0.001)\n",
        "criterion = nn.CrossEntropyLoss()\n",
        "train(model=model, dataset_loader=train_loader, optim=optimizer, epochs=100)"
      ]
    },
    {
      "cell_type": "code",
      "execution_count": 27,
      "metadata": {
        "colab": {
          "base_uri": "https://localhost:8080/"
        },
        "id": "ZmUfb47Ady6d",
        "outputId": "ae102d5d-403f-4ca8-fa48-7052b75df67d"
      },
      "outputs": [
        {
          "name": "stdout",
          "output_type": "stream",
          "text": [
            "Accuracy: 0.9135861410448779\n",
            "F1: 0.9165514061779622\n",
            "Precision: 0.8861436576668364\n",
            "Recall: 0.9491201746010094\n",
            "\n"
          ]
        }
      ],
      "source": [
        "model.eval()\n",
        "L = np.empty((0, 2))\n",
        "for X, y in test_loader:\n",
        "    test_out = model(X).detach().cpu().numpy()\n",
        "    L = np.append(L, test_out, axis=0)\n",
        "\n",
        "y_pred = L.argmax(axis=1)\n",
        "y_pred = L.argmax(axis=1)\n",
        "\n",
        "acc, f1, prec, rec = get_scores(test_y, y_pred)\n",
        "print(f'Accuracy: {acc}')\n",
        "print(f'F1: {f1}')\n",
        "print(f'Precision: {prec}')\n",
        "print(f'Recall: {rec}'+\"\\n\")"
      ]
    },
    {
      "cell_type": "code",
      "execution_count": null,
      "metadata": {
        "id": "xJb1GXrteoqT"
      },
      "outputs": [],
      "source": []
    }
  ],
  "metadata": {
    "accelerator": "GPU",
    "colab": {
      "gpuType": "T4",
      "provenance": []
    },
    "kernelspec": {
      "display_name": "Python 3",
      "name": "python3"
    },
    "language_info": {
      "name": "python"
    }
  },
  "nbformat": 4,
  "nbformat_minor": 0
}

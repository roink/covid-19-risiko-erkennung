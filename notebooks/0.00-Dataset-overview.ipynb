{
 "cells": [
  {
   "cell_type": "code",
   "execution_count": 1,
   "metadata": {},
   "outputs": [],
   "source": [
    "import os\n",
    "import subprocess\n",
    "from tqdm.notebook import tqdm\n",
    "from typing import Dict, List, Tuple"
   ]
  },
  {
   "cell_type": "code",
   "execution_count": null,
   "metadata": {},
   "outputs": [],
   "source": [
    "\n",
    "def get_file_info(file_path: str) -> Tuple[int, int, str]:\n",
    "    \"\"\"\n",
    "    Retrieve information about a file including the number of lines, size on disk, and the header line.\n",
    "    Args:\n",
    "        file_path (str): The path to the file.\n",
    "    Returns:\n",
    "        Tuple[int, int, str]: A tuple containing:\n",
    "            - The number of lines in the file (int).\n",
    "            - The size of the file on disk in bytes (int).\n",
    "            - The header line of the file (str).\n",
    "    \"\"\"\n",
    "    try:\n",
    "        # Get number of lines in file with linux command wc (word count)\n",
    "        result = subprocess.run(['wc', '-l', file_path], stdout=subprocess.PIPE, text=True)\n",
    "        num_lines = int(result.stdout.split()[0])\n",
    "    except FileNotFoundError:\n",
    "        num_lines = -1\n",
    "    \n",
    "    # Get header of file\n",
    "    with open(file_path, 'r') as file:\n",
    "        header = file.readline().strip()\n",
    "    \n",
    "    # Get size of file on disk\n",
    "    size_on_disk = os.path.getsize(file_path)\n",
    "    \n",
    "    return num_lines, size_on_disk, header\n",
    "\n",
    "def parse_folder(folder_path: str) -> Dict[str, List[Dict[str, str]]]:\n",
    "    \"\"\"\n",
    "    Parses a given folder and collects information about files in its subfolders.\n",
    "    Args:\n",
    "        folder_path (str): The path to the folder to be parsed.\n",
    "    Returns:\n",
    "        Dict[str, List[Dict[str, str]]]: A dictionary where each key is a subfolder name and the value is a list of dictionaries,\n",
    "                                         each containing information about a file in that subfolder. The file information includes:\n",
    "                                         - 'file_name': The name of the file.\n",
    "                                         - 'num_lines': The number of lines in the file.\n",
    "                                         - 'size_on_disk': The size of the file on disk.\n",
    "                                         - 'header': The header of the file.\n",
    "    \"\"\"\n",
    "    folder_info: Dict[str, List[Dict[str, str]]] = {}\n",
    "    \n",
    "    for root, dirs, files in os.walk(folder_path):\n",
    "        for subfolder in tqdm(dirs, desc=\"Processing subfolders\", leave=False):\n",
    "            subfolder_path = os.path.join(root, subfolder)\n",
    "            folder_info[subfolder] = []\n",
    "            for file_name in (pbar := tqdm(os.listdir(subfolder_path), desc=f\"Processing files in {subfolder}\", leave=False)):\n",
    "                if file_name == '.gitkeep':\n",
    "                    continue\n",
    "                \n",
    "                pbar.set_postfix_str(f\"file: '{file_name}'\", refresh=True)\n",
    "                \n",
    "                file_path = os.path.join(subfolder_path, file_name)\n",
    "                if os.path.isfile(file_path):\n",
    "                    num_lines, size_on_disk, header = get_file_info(file_path)\n",
    "                    folder_info[subfolder].append({\n",
    "                        'file_name': file_name,\n",
    "                        'num_lines': num_lines,\n",
    "                        'size_on_disk': size_on_disk,\n",
    "                        'header': header\n",
    "                    })\n",
    "    return folder_info\n",
    "\n",
    "def print_file_info(folder_info: Dict[str, List[Dict[str, str]]], folder_path: str, print_header: bool = False) -> None:\n",
    "    \"\"\"\n",
    "    Prints information about files in a given folder structure.\n",
    "\n",
    "    Args:\n",
    "        folder_info (Dict[str, List[Dict[str, str]]]): A dictionary where keys are subfolder names and values are lists of dictionaries containing file information.\n",
    "            Each file information dictionary should have the following keys:\n",
    "                - 'file_name': The name of the file (str).\n",
    "                - 'num_lines': The number of lines in the file (str).\n",
    "                - 'size_on_disk': The size of the file on disk in bytes (str).\n",
    "                - 'header': The header of the file (str).\n",
    "        folder_path (str): The path to the main folder containing the subfolders.\n",
    "        print_header (bool, optional): If True, prints the header of each file. Defaults to False.\n",
    "\n",
    "    Returns:\n",
    "        None\n",
    "    \"\"\"\n",
    "    for subfolder, files in folder_info.items():\n",
    "        if files:  # Only print subfolders that contain files\n",
    "            subfolder_path = os.path.join(folder_path, subfolder)\n",
    "            print(f\"Path: {subfolder_path}\")\n",
    "            for file_info in files:\n",
    "                num_lines_formatted = f\"{file_info['num_lines']:,}\"\n",
    "                size_in_mb = file_info['size_on_disk'] / (1024 * 1024)\n",
    "                size_in_mb_formatted = f\"{size_in_mb:,.2f} MB\"\n",
    "                print(f\"  File: {file_info['file_name']}\")\n",
    "                print(f\"    Lines: {num_lines_formatted} ({size_in_mb_formatted})\")\n",
    "                if print_header:\n",
    "                    print(f\"    Header: {file_info['header']}\")"
   ]
  },
  {
   "cell_type": "code",
   "execution_count": 3,
   "metadata": {},
   "outputs": [
    {
     "data": {
      "application/vnd.jupyter.widget-view+json": {
       "model_id": "a12c1b27da64418389cb9c251b052436",
       "version_major": 2,
       "version_minor": 0
      },
      "text/plain": [
       "Processing subfolders:   0%|          | 0/3 [00:00<?, ?it/s]"
      ]
     },
     "metadata": {},
     "output_type": "display_data"
    },
    {
     "data": {
      "application/vnd.jupyter.widget-view+json": {
       "model_id": "3543e369dbcf488ba2818c680f8defdb",
       "version_major": 2,
       "version_minor": 0
      },
      "text/plain": [
       "Processing files in interim:   0%|          | 0/2 [00:00<?, ?it/s]"
      ]
     },
     "metadata": {},
     "output_type": "display_data"
    },
    {
     "data": {
      "application/vnd.jupyter.widget-view+json": {
       "model_id": "5d29cf2a61bd45bcaf767b32dbdacd05",
       "version_major": 2,
       "version_minor": 0
      },
      "text/plain": [
       "Processing files in processed:   0%|          | 0/1 [00:00<?, ?it/s]"
      ]
     },
     "metadata": {},
     "output_type": "display_data"
    },
    {
     "data": {
      "application/vnd.jupyter.widget-view+json": {
       "model_id": "16e84e56b6334644ae6e254cd8acdf33",
       "version_major": 2,
       "version_minor": 0
      },
      "text/plain": [
       "Processing files in raw:   0%|          | 0/4 [00:00<?, ?it/s]"
      ]
     },
     "metadata": {},
     "output_type": "display_data"
    },
    {
     "data": {
      "application/vnd.jupyter.widget-view+json": {
       "model_id": "b0970eeca7ce44879f1b722fa5e59d5b",
       "version_major": 2,
       "version_minor": 0
      },
      "text/plain": [
       "Processing subfolders: 0it [00:00, ?it/s]"
      ]
     },
     "metadata": {},
     "output_type": "display_data"
    },
    {
     "data": {
      "application/vnd.jupyter.widget-view+json": {
       "model_id": "1d13b946dd3b48a192c28f88e80c9c26",
       "version_major": 2,
       "version_minor": 0
      },
      "text/plain": [
       "Processing subfolders: 0it [00:00, ?it/s]"
      ]
     },
     "metadata": {},
     "output_type": "display_data"
    },
    {
     "data": {
      "application/vnd.jupyter.widget-view+json": {
       "model_id": "8f5ab9d404fd4600b92f8e418068412f",
       "version_major": 2,
       "version_minor": 0
      },
      "text/plain": [
       "Processing subfolders:   0%|          | 0/3 [00:00<?, ?it/s]"
      ]
     },
     "metadata": {},
     "output_type": "display_data"
    },
    {
     "data": {
      "application/vnd.jupyter.widget-view+json": {
       "model_id": "16eab5a7b3894f459d8bd1cffa700540",
       "version_major": 2,
       "version_minor": 0
      },
      "text/plain": [
       "Processing files in covid19-dataset:   0%|          | 0/1 [00:00<?, ?it/s]"
      ]
     },
     "metadata": {},
     "output_type": "display_data"
    },
    {
     "data": {
      "application/vnd.jupyter.widget-view+json": {
       "model_id": "1ef0d543fbf74119804e1a49ff23781c",
       "version_major": 2,
       "version_minor": 0
      },
      "text/plain": [
       "Processing files in data.cdc.gov:   0%|          | 0/1 [00:00<?, ?it/s]"
      ]
     },
     "metadata": {},
     "output_type": "display_data"
    },
    {
     "data": {
      "application/vnd.jupyter.widget-view+json": {
       "model_id": "7d6eae8aa8b84ca1a74dca44ddd19eaa",
       "version_major": 2,
       "version_minor": 0
      },
      "text/plain": [
       "Processing files in arashnic_covid19-case-surveillance-public-use-dataset:   0%|          | 0/2 [00:00<?, ?it/…"
      ]
     },
     "metadata": {},
     "output_type": "display_data"
    },
    {
     "data": {
      "application/vnd.jupyter.widget-view+json": {
       "model_id": "5642eb1b481540d7905250122cfcd900",
       "version_major": 2,
       "version_minor": 0
      },
      "text/plain": [
       "Processing subfolders: 0it [00:00, ?it/s]"
      ]
     },
     "metadata": {},
     "output_type": "display_data"
    },
    {
     "data": {
      "application/vnd.jupyter.widget-view+json": {
       "model_id": "69b877d3411b47ac858f196937731055",
       "version_major": 2,
       "version_minor": 0
      },
      "text/plain": [
       "Processing subfolders: 0it [00:00, ?it/s]"
      ]
     },
     "metadata": {},
     "output_type": "display_data"
    },
    {
     "data": {
      "application/vnd.jupyter.widget-view+json": {
       "model_id": "8e9df34985424a6195a4d8de7cfe04ab",
       "version_major": 2,
       "version_minor": 0
      },
      "text/plain": [
       "Processing subfolders:   0%|          | 0/1 [00:00<?, ?it/s]"
      ]
     },
     "metadata": {},
     "output_type": "display_data"
    },
    {
     "data": {
      "application/vnd.jupyter.widget-view+json": {
       "model_id": "93db63bf03b647fb84edad1b3bfb8c01",
       "version_major": 2,
       "version_minor": 0
      },
      "text/plain": [
       "Processing files in Covid-19_Ver2:   0%|          | 0/1 [00:00<?, ?it/s]"
      ]
     },
     "metadata": {},
     "output_type": "display_data"
    },
    {
     "data": {
      "application/vnd.jupyter.widget-view+json": {
       "model_id": "4730e4fec1ff499894f5caf8e0844a36",
       "version_major": 2,
       "version_minor": 0
      },
      "text/plain": [
       "Processing subfolders: 0it [00:00, ?it/s]"
      ]
     },
     "metadata": {},
     "output_type": "display_data"
    }
   ],
   "source": [
    "# Collect data\n",
    "folder_path = \"../data\"\n",
    "folder_info = parse_folder(folder_path)"
   ]
  },
  {
   "cell_type": "code",
   "execution_count": 6,
   "metadata": {},
   "outputs": [
    {
     "name": "stdout",
     "output_type": "stream",
     "text": [
      "Path: ../data/interim\n",
      "  File: covid-data-clean.csv\n",
      "    Lines: 1,048,576 (108.18 MB)\n",
      "Path: ../data/covid19-dataset\n",
      "  File: Covid Data.csv\n",
      "    Lines: 1,048,576 (55.74 MB)\n",
      "Path: ../data/data.cdc.gov\n",
      "  File: COVID-19_Case_Surveillance_Public_Use_Data_with_Geography_20241023.csv\n",
      "    Lines: 106,219,501 (14,344.08 MB)\n",
      "Path: ../data/arashnic_covid19-case-surveillance-public-use-dataset\n",
      "  File: COVID-19_Case_Surveillance_Public_Use_Data.csv\n",
      "    Lines: 8,405,080 (872.05 MB)\n",
      "Path: ../data/Covid-19_Ver2\n",
      "  File: Covid-19_Ver2\n",
      "    Lines: 8,405,080 (1,671.83 MB)\n"
     ]
    }
   ],
   "source": [
    "print_file_info(folder_info, folder_path, print_header=False)"
   ]
  }
 ],
 "metadata": {
  "kernelspec": {
   "display_name": "venv",
   "language": "python",
   "name": "python3"
  },
  "language_info": {
   "codemirror_mode": {
    "name": "ipython",
    "version": 3
   },
   "file_extension": ".py",
   "mimetype": "text/x-python",
   "name": "python",
   "nbconvert_exporter": "python",
   "pygments_lexer": "ipython3",
   "version": "3.11.10"
  }
 },
 "nbformat": 4,
 "nbformat_minor": 2
}
